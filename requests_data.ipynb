{
  "nbformat": 4,
  "nbformat_minor": 0,
  "metadata": {
    "colab": {
      "provenance": []
    },
    "kernelspec": {
      "name": "python3",
      "display_name": "Python 3"
    },
    "language_info": {
      "name": "python"
    }
  },
  "cells": [
    {
      "cell_type": "code",
      "source": [
        "from pyspark.sql import SparkSession\n",
        "from pyspark.sql.functions import to_date, col, sum as sum_\n",
        "\n",
        "spark = SparkSession.builder.appName(\"Requests\").getOrCreate()\n",
        "\n",
        "# 0. Чтение данных из csv файла в DataFrame\n",
        "df = spark.read.csv(\"web_server_logs.csv\", header=True, inferSchema=True)\n",
        "# df.show()\n",
        "\n",
        "# 1. Вывести 10 самых активных IP\n",
        "print(\"Top 10 active IP addresses:\")\n",
        "top10_df = df.groupBy(col(\"ip\")) \\\n",
        "            .agg(count(\"*\").alias(\"request_count\")) \\\n",
        "            .orderBy(col(\"request_count\"), ascending=False).limit(10)\n",
        "top10_df.show()\n",
        "\n",
        "# 2. Посчитать количество запросов для каждого HTTP метода\n",
        "print(\"Request count by HTTP method:\")\n",
        "methods_df = df.groupBy(col(\"method\")) \\\n",
        "              .agg(count(\"*\").alias(\"method_count\"))\n",
        "methods_df.show()\n",
        "\n",
        "# 3. Посчитать количество запросов с кодом ответа 404\n",
        "numbers_of_404_response = df.filter(df.response_code == 404).count()\n",
        "print(f'Number of 404 response codes: {numbers_of_404_response}')\n",
        "\n",
        "# 4. Сгруппировать по дате, просуммировать размер ответов, отсортировать по дате\n",
        "print(\"Total response size by day:\")\n",
        "response_size_df = df.groupBy(to_date(col(\"timestamp\")).alias(\"date\")) \\\n",
        "                    .agg(sum_(col(\"response_size\")).alias(\"total_response_size\")) \\\n",
        "                    .orderBy(\"date\")\n",
        "response_size_df.show()\n"
      ],
      "metadata": {
        "colab": {
          "base_uri": "https://localhost:8080/"
        },
        "id": "7X7OGqaZrU7w",
        "outputId": "a3cf997b-cfc0-4cf4-a268-102542b6a87f"
      },
      "execution_count": null,
      "outputs": [
        {
          "output_type": "stream",
          "name": "stdout",
          "text": [
            "Top 10 active IP addresses:\n",
            "+---------------+-------------+\n",
            "|             ip|request_count|\n",
            "+---------------+-------------+\n",
            "|170.114.216.117|            2|\n",
            "|145.213.176.157|            2|\n",
            "|  93.212.31.127|            2|\n",
            "|   14.105.0.140|            1|\n",
            "|    80.55.130.9|            1|\n",
            "|  3.189.118.222|            1|\n",
            "|   74.184.95.68|            1|\n",
            "|  162.188.76.17|            1|\n",
            "|  136.15.103.52|            1|\n",
            "|  14.220.33.207|            1|\n",
            "+---------------+-------------+\n",
            "\n",
            "Request count by HTTP method:\n",
            "+------+------------+\n",
            "|method|method_count|\n",
            "+------+------------+\n",
            "|  POST|       25150|\n",
            "|DELETE|       24669|\n",
            "|   PUT|       25048|\n",
            "|   GET|       25133|\n",
            "+------+------------+\n",
            "\n",
            "Number of 404 response codes: 24965\n",
            "Total response size by day:\n",
            "+----------+-------------------+\n",
            "|      date|total_response_size|\n",
            "+----------+-------------------+\n",
            "|2024-01-01|            2039630|\n",
            "|2024-01-02|            2216806|\n",
            "|2024-01-03|            2201143|\n",
            "|2024-01-04|            2236519|\n",
            "|2024-01-05|            2239586|\n",
            "|2024-01-06|            2141891|\n",
            "|2024-01-07|            2313460|\n",
            "|2024-01-08|            2334007|\n",
            "|2024-01-09|            2368666|\n",
            "|2024-01-10|            2268297|\n",
            "|2024-01-11|            2203893|\n",
            "|2024-01-12|            2235858|\n",
            "|2024-01-13|            2304227|\n",
            "|2024-01-14|            2497379|\n",
            "|2024-01-15|            2107704|\n",
            "|2024-01-16|            2205350|\n",
            "|2024-01-17|            2262787|\n",
            "|2024-01-18|            2149512|\n",
            "|2024-01-19|            2297629|\n",
            "|2024-01-20|            2428154|\n",
            "+----------+-------------------+\n",
            "only showing top 20 rows\n",
            "\n"
          ]
        }
      ]
    }
  ]
}