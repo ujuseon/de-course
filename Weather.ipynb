{
  "nbformat": 4,
  "nbformat_minor": 0,
  "metadata": {
    "colab": {
      "provenance": []
    },
    "kernelspec": {
      "name": "python3",
      "display_name": "Python 3"
    },
    "language_info": {
      "name": "python"
    }
  },
  "cells": [
    {
      "cell_type": "code",
      "execution_count": 2,
      "metadata": {
        "colab": {
          "base_uri": "https://localhost:8080/"
        },
        "id": "S5bcCBjL4w6s",
        "outputId": "0e455991-5823-4122-df25-d38b60724cae"
      },
      "outputs": [
        {
          "output_type": "stream",
          "name": "stdout",
          "text": [
            "pip 24.1.2 from /usr/local/lib/python3.10/dist-packages/pip (python 3.10)\n"
          ]
        }
      ],
      "source": [
        "pip --version"
      ]
    },
    {
      "cell_type": "code",
      "source": [
        "!pip install pyspark py4j"
      ],
      "metadata": {
        "colab": {
          "base_uri": "https://localhost:8080/"
        },
        "id": "pbHG5i0k44Gx",
        "outputId": "ee8bdff9-cbbd-46f6-cde6-cbc5a76f2bd2"
      },
      "execution_count": 3,
      "outputs": [
        {
          "output_type": "stream",
          "name": "stdout",
          "text": [
            "Collecting pyspark\n",
            "  Downloading pyspark-3.5.1.tar.gz (317.0 MB)\n",
            "\u001b[2K     \u001b[90m━━━━━━━━━━━━━━━━━━━━━━━━━━━━━━━━━━━━━━━━\u001b[0m \u001b[32m317.0/317.0 MB\u001b[0m \u001b[31m4.3 MB/s\u001b[0m eta \u001b[36m0:00:00\u001b[0m\n",
            "\u001b[?25h  Preparing metadata (setup.py) ... \u001b[?25l\u001b[?25hdone\n",
            "Requirement already satisfied: py4j in /usr/local/lib/python3.10/dist-packages (0.10.9.7)\n",
            "Building wheels for collected packages: pyspark\n",
            "  Building wheel for pyspark (setup.py) ... \u001b[?25l\u001b[?25hdone\n",
            "  Created wheel for pyspark: filename=pyspark-3.5.1-py2.py3-none-any.whl size=317488490 sha256=f79351c0e5a8013dad063920fbb419de71012d36eba92a158b12f7f4383e8c36\n",
            "  Stored in directory: /root/.cache/pip/wheels/80/1d/60/2c256ed38dddce2fdd93be545214a63e02fbd8d74fb0b7f3a6\n",
            "Successfully built pyspark\n",
            "Installing collected packages: pyspark\n",
            "Successfully installed pyspark-3.5.1\n"
          ]
        }
      ]
    },
    {
      "cell_type": "code",
      "source": [
        "from pyspark.sql import SparkSession\n",
        "from pyspark.sql.functions import isnull, count, when, to_date, col, year, month, avg, sum as sum_\n",
        "\n",
        "# Настройка Spark\n",
        "spark = SparkSession.builder.appName(\"Meteo Data\").getOrCreate()\n",
        "\n",
        "# 1. Чтение данных из csv файла в DataFrame\n",
        "df = spark.read.csv(\"/content/sample_data/weather_data.csv\", header=True, inferSchema=True)\n",
        "# df.printSchema()\n",
        "# df.show()\n",
        "# df.summary().show()\n",
        "\n",
        "# 2. Преобразование столбца date в формат даты\n",
        "# df = df.withColumn(\"date\", to_date(\"date\"), \"yyyy-MM-dd\"))\n",
        "\n",
        "# 3. Проверить данные на наличие пропущенных значений\n",
        "print(\"Проверка на наличие пропущенных значений:\")\n",
        "null_counts = df.select([count(when(isnull(c), c)).alias(c) for c in df.columns])\n",
        "null_counts.show()\n",
        "\n",
        "# 4. Вывести топ-5 самых жарких дней за все время наблюдений\n",
        "print(\"Топ-5 самых жарких дней за все время наблюдений:\")\n",
        "top5_df = df.orderBy(col(\"temperature\") \\\n",
        "            .desc()).limit(5) \\\n",
        "            .select(\"date\", \"temperature\")\n",
        "top5_df.show()\n",
        "\n",
        "# 5. Найти метеостанцию с наибольшим количеством осадков за последний год\n",
        "print(\"Метеостанция с наибольшим количеством осадков за последний год:\")\n",
        "last_year = df.filter(year(\"date\") == 2023)\n",
        "top_prec_df = last_year.groupBy(\"station_id\") \\\n",
        "                .agg(sum_(\"precipitation\").alias(\"sum_precipitation\")) \\\n",
        "                .orderBy(\"sum_precipitation\", ascending=False) \\\n",
        "                .limit(1)\n",
        "top_prec_df.show()\n",
        "\n",
        "# 6. Подсчитать среднюю температуру по месяцам за все время наблюдений\n",
        "print(\"Средняя температура по месяцам за все время наблюдений:\")\n",
        "avg_temp_df = df.groupBy(month(\"date\").alias(\"month\")) \\\n",
        "                .agg(avg(\"temperature\").alias(\"avg_temperature\")) \\\n",
        "                .orderBy(\"month\")\n",
        "avg_temp_df.show()\n",
        "\n",
        "# Остановка SparkContext\n",
        "spark.stop()"
      ],
      "metadata": {
        "colab": {
          "base_uri": "https://localhost:8080/"
        },
        "id": "7CCU5IGa5PsK",
        "outputId": "04893023-6a92-4fda-826f-a67076fcfbac"
      },
      "execution_count": 28,
      "outputs": [
        {
          "output_type": "stream",
          "name": "stdout",
          "text": [
            "Проверка на наличие пропущенных значений:\n",
            "+----------+----+-----------+-------------+----------+\n",
            "|station_id|date|temperature|precipitation|wind_speed|\n",
            "+----------+----+-----------+-------------+----------+\n",
            "|         0|   0|          0|            0|         0|\n",
            "+----------+----+-----------+-------------+----------+\n",
            "\n",
            "Топ-5 самых жарких дней за все время наблюдений:\n",
            "+----------+------------------+\n",
            "|      date|       temperature|\n",
            "+----------+------------------+\n",
            "|2021-08-20|39.982828249354846|\n",
            "|2023-12-02| 39.96797489293784|\n",
            "|2022-03-28|  39.8246894248997|\n",
            "|2019-02-11| 39.76737697836647|\n",
            "|2020-06-10| 39.69147838355929|\n",
            "+----------+------------------+\n",
            "\n",
            "Метеостанция с наибольшим количеством осадков за последний год:\n",
            "+----------+-----------------+\n",
            "|station_id|sum_precipitation|\n",
            "+----------+-----------------+\n",
            "| station_5|642.9302626767898|\n",
            "+----------+-----------------+\n",
            "\n",
            "Средняя температура по месяцам за все время наблюдений:\n",
            "+-----+------------------+\n",
            "|month|   avg_temperature|\n",
            "+-----+------------------+\n",
            "|    1|11.356518462550754|\n",
            "|    2| 9.067229891101926|\n",
            "|    3| 7.244080205633994|\n",
            "|    4|12.024529009744693|\n",
            "|    5| 9.902883346912718|\n",
            "|    6|13.421092297254138|\n",
            "|    7|6.1857183016954576|\n",
            "|    8|  10.9678002814186|\n",
            "|    9| 9.596744236573942|\n",
            "|   10|  9.09884344821895|\n",
            "|   11| 7.265889994697494|\n",
            "|   12|11.218592100674337|\n",
            "+-----+------------------+\n",
            "\n"
          ]
        }
      ]
    }
  ]
}